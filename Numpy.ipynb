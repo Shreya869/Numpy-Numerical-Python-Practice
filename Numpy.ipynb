{
 "cells": [
  {
   "cell_type": "code",
   "execution_count": 10,
   "metadata": {},
   "outputs": [
    {
     "name": "stdout",
     "output_type": "stream",
     "text": [
      "[[ 2  6  1  3  7]\n",
      " [ 5 10  4  9  8]]\n",
      "<class 'numpy.ndarray'>\n",
      "2\n",
      "(2, 5)\n"
     ]
    }
   ],
   "source": [
    "'''In Python we have lists that serve the purpose of arrays, but they are slow to process.\n",
    "\n",
    "NumPy aims to provide an array object that is up to 50x faster that traditional Python lists.\n",
    "\n",
    "The array object in NumPy is called ndarray, it provides a lot of supporting functions that make working with ndarray very easy.\n",
    "\n",
    "Arrays are very frequently used in data science, where speed and resources are very important.\n",
    "\n",
    "We can create a NumPy ndarray object by using the array() function.\n",
    "'''\n",
    "#Numpy ndarray\n",
    "import numpy as np\n",
    "data=[[2,6,1,3,7],[5,10,4,9,8]]\n",
    "data=np.array(data)\n",
    "print (data)\n",
    "print(type(data))\n",
    "print(data.ndim)\n",
    "print(data.shape)\n"
   ]
  },
  {
   "cell_type": "code",
   "execution_count": 9,
   "metadata": {},
   "outputs": [
    {
     "name": "stdout",
     "output_type": "stream",
     "text": [
      "[[1. 1. 1.]\n",
      " [1. 1. 1.]]\n"
     ]
    }
   ],
   "source": [
    "#Produce an array of all 1's\n",
    "print(np.ones((2,3)))"
   ]
  },
  {
   "cell_type": "code",
   "execution_count": 15,
   "metadata": {},
   "outputs": [
    {
     "name": "stdout",
     "output_type": "stream",
     "text": [
      "[ 0  1  2  3  4  5  6  7  8  9 10 11 12 13 14 15 16 17 18]\n",
      "[2 3 4]\n",
      "[5 6 7]\n"
     ]
    }
   ],
   "source": [
    "array=np.arange(19)\n",
    "print(array)\n",
    "print(array[2:5])\n",
    "print(array[5:8])"
   ]
  },
  {
   "cell_type": "code",
   "execution_count": 19,
   "metadata": {},
   "outputs": [
    {
     "name": "stdout",
     "output_type": "stream",
     "text": [
      "[[10 11 12]\n",
      " [13 14 15]]\n",
      "[[2 3 4]\n",
      " [5 6 7]]\n",
      "[[ 25  36  49]\n",
      " [ 64  81 100]]\n"
     ]
    }
   ],
   "source": [
    "#ARRAY OPERATIONS\n",
    "data=np.array([[5,6,7],[8,9,10]])\n",
    "print(data+5)\n",
    "print(data-3)\n",
    "print(data*data)\n"
   ]
  },
  {
   "cell_type": "code",
   "execution_count": 22,
   "metadata": {},
   "outputs": [
    {
     "name": "stdout",
     "output_type": "stream",
     "text": [
      "[[ 0  1  2  3]\n",
      " [ 4  5  6  7]\n",
      " [ 8  9 10 11]\n",
      " [12 13 14 15]]\n",
      " \n",
      "[[ 0  4  8 12]\n",
      " [ 1  5  9 13]\n",
      " [ 2  6 10 14]\n",
      " [ 3  7 11 15]]\n"
     ]
    }
   ],
   "source": [
    "#Transposing and swaping Axis\n",
    "data=np.arange(16).reshape((4,4))\n",
    "print(data)\n",
    "#Transpose of an array\n",
    "print(\" \")\n",
    "print(data.T)"
   ]
  },
  {
   "cell_type": "code",
   "execution_count": 23,
   "metadata": {},
   "outputs": [
    {
     "name": "stdout",
     "output_type": "stream",
     "text": [
      "[[-0.83433285  0.70964872 -1.14558266]\n",
      " [ 0.55317526  0.26504468 -1.8175386 ]]\n"
     ]
    }
   ],
   "source": [
    "x=np.random.randn(2,3)\n",
    "print(x)"
   ]
  },
  {
   "cell_type": "code",
   "execution_count": 25,
   "metadata": {},
   "outputs": [
    {
     "name": "stdout",
     "output_type": "stream",
     "text": [
      "[[-0.92862522  0.34426808]\n",
      " [-0.4146192   0.56790004]\n",
      " [-0.58441572  1.17640104]]\n",
      "0.026818169759928085\n",
      "-0.92862521920215\n",
      "1.1764010408544554\n"
     ]
    }
   ],
   "source": [
    "#STATISTICAL METHODS\n",
    "#Random Data\n",
    "data=np.random.randn(3,2)\n",
    "print(data)\n",
    "print(data.mean())\n",
    "print(data.min())\n",
    "print(data.max())"
   ]
  },
  {
   "cell_type": "code",
   "execution_count": 27,
   "metadata": {},
   "outputs": [
    {
     "name": "stdout",
     "output_type": "stream",
     "text": [
      "[[-0.11336526  0.76209251]\n",
      " [-0.10889836 -0.74239843]\n",
      " [-0.1934763  -1.32101804]]\n"
     ]
    }
   ],
   "source": [
    "#MAtrix Class\n",
    "\n",
    "x=np.random.randn(3,2)\n",
    "x=np.matrix(x)\n",
    "\n",
    "y=np.random.randn(2,2)\n",
    "y=np.matrix(y)\n",
    "\n",
    "print(x*y)"
   ]
  },
  {
   "cell_type": "code",
   "execution_count": null,
   "metadata": {},
   "outputs": [],
   "source": []
  }
 ],
 "metadata": {
  "kernelspec": {
   "display_name": "Python 3",
   "language": "python",
   "name": "python3"
  },
  "language_info": {
   "codemirror_mode": {
    "name": "ipython",
    "version": 3
   },
   "file_extension": ".py",
   "mimetype": "text/x-python",
   "name": "python",
   "nbconvert_exporter": "python",
   "pygments_lexer": "ipython3",
   "version": "3.7.6"
  }
 },
 "nbformat": 4,
 "nbformat_minor": 4
}
